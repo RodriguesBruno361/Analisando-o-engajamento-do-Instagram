{
 "cells": [
  {
   "cell_type": "code",
   "execution_count": 1,
   "metadata": {
    "id": "jk_ibE9TCgRk"
   },
   "outputs": [],
   "source": [
    "# Importando o pandas\n",
    "import pandas as pd\n",
    "import numpy as np\n",
    "\n",
    "# Para melhorar a visualização, vamos criar um padrão no formato dos valores\n",
    "pd.options.display.float_format = '{:,.2f}'.format"
   ]
  },
  {
   "cell_type": "code",
   "execution_count": 3,
   "metadata": {
    "id": "bVyNjAq50RlU"
   },
   "outputs": [
    {
     "ename": "SyntaxError",
     "evalue": "(unicode error) 'unicodeescape' codec can't decode bytes in position 3-4: truncated \\UXXXXXXXX escape (3371055386.py, line 3)",
     "output_type": "error",
     "traceback": [
      "\u001b[1;36m  Cell \u001b[1;32mIn[3], line 3\u001b[1;36m\u001b[0m\n\u001b[1;33m    base = pd.read_excel('/C:\\Users\\bruno\\Downloads\\Python Projetos Bruno\\Projeto 1 - Analisando o Engajamento do Instagram\\08. Analisando o engajamento no Instagram.xlsx')\u001b[0m\n\u001b[1;37m                                                                                                                                                                           ^\u001b[0m\n\u001b[1;31mSyntaxError\u001b[0m\u001b[1;31m:\u001b[0m (unicode error) 'unicodeescape' codec can't decode bytes in position 3-4: truncated \\UXXXXXXXX escape\n"
     ]
    }
   ],
   "source": [
    "# Importar a base em excel\n",
    "# Base 08: Analisando o engajamento do instagram.xlsx\n",
    "base = pd.read_excel('/C:\\Users\\bruno\\Downloads\\Python Projetos Bruno\\Projeto 1 - Analisando o Engajamento do Instagram\\08. Analisando o engajamento no Instagram.xlsx')"
   ]
  },
  {
   "cell_type": "code",
   "execution_count": null,
   "metadata": {
    "id": "8Ezf47a51NEH"
   },
   "outputs": [],
   "source": [
    "# Visualizando as 5 primeiras linhas\n",
    "base.head()"
   ]
  },
  {
   "cell_type": "code",
   "execution_count": null,
   "metadata": {
    "id": "kILoyFrl3FlH"
   },
   "outputs": [],
   "source": [
    "# Apagando a coluna visualizações\n",
    "base = base.drop(\"Visualizações\", axis=1)"
   ]
  },
  {
   "cell_type": "code",
   "execution_count": null,
   "metadata": {
    "id": "hoy-_V2c3M2r"
   },
   "outputs": [],
   "source": [
    "# Visualizando novamente as 5 primeiras linhas\n",
    "base.head()"
   ]
  },
  {
   "cell_type": "code",
   "execution_count": null,
   "metadata": {
    "id": "-t_l02xs3VOZ"
   },
   "outputs": [],
   "source": [
    "# Visualizando as 5 últimas linhas\n",
    "base.tail()"
   ]
  },
  {
   "cell_type": "code",
   "execution_count": null,
   "metadata": {
    "id": "_ehPSGW45Rzp"
   },
   "outputs": [],
   "source": [
    "# Tamanho da base\n",
    "base.shape"
   ]
  },
  {
   "cell_type": "code",
   "execution_count": null,
   "metadata": {
    "id": "FQu0-V8z5W--"
   },
   "outputs": [],
   "source": [
    "# Se a base for pequena, o display mostra a base completa\n",
    "display(base)"
   ]
  },
  {
   "cell_type": "code",
   "execution_count": null,
   "metadata": {
    "id": "45HpEJco5eVE"
   },
   "outputs": [],
   "source": [
    "# Verificando as informações\n",
    "base.info()"
   ]
  },
  {
   "cell_type": "code",
   "execution_count": null,
   "metadata": {
    "id": "7AICkKXz5iVi"
   },
   "outputs": [],
   "source": [
    "# Contando os valores que aparecem na coluna Carrossel\n",
    "base.Carrossel.value_counts()"
   ]
  },
  {
   "cell_type": "code",
   "execution_count": null,
   "metadata": {
    "id": "_e74kSSpBurU"
   },
   "outputs": [],
   "source": [
    "# Filtrando os valores em que carrossel é nulo\n",
    "base.loc[base.Carrossel.isnull()].head()"
   ]
  },
  {
   "cell_type": "code",
   "execution_count": null,
   "metadata": {
    "id": "rNZDs8CMB0Qg"
   },
   "outputs": [],
   "source": [
    "# Selecionando apenas a coluna carrossel\n",
    "base.loc[base.Carrossel.isnull(),'Carrossel'].head()"
   ]
  },
  {
   "cell_type": "code",
   "execution_count": null,
   "metadata": {
    "id": "g2UPHslRB46g"
   },
   "outputs": [],
   "source": [
    "# Atribuir valor N para essa coluna\n",
    "base.loc[base.Carrossel.isnull(),'Carrossel'] = \"N\""
   ]
  },
  {
   "cell_type": "code",
   "execution_count": null,
   "metadata": {
    "id": "z2D6SSRsDCua"
   },
   "outputs": [],
   "source": [
    "# Descrição estatistica da base\n",
    "base.describe()"
   ]
  },
  {
   "cell_type": "code",
   "execution_count": null,
   "metadata": {
    "id": "QBcm9dNjDztc"
   },
   "outputs": [],
   "source": [
    "# Gráfico de dispersão ajudaria a entender melhor curtidas e comentários\n",
    "base.plot(kind='scatter', x='Data', y='Curtidas',figsize=(10,5));"
   ]
  },
  {
   "cell_type": "code",
   "execution_count": null,
   "metadata": {
    "id": "lZIyNMfUFRn4"
   },
   "outputs": [],
   "source": [
    "# Podemos colocar curtidas e comentários no mesmo gráfico\n",
    "ax = base.plot(kind='scatter', x='Data', y='Curtidas', color='blue', label='Curtidas', figsize=(10,5));"
   ]
  },
  {
   "cell_type": "code",
   "execution_count": null,
   "metadata": {
    "id": "sq-fh2Q8Ga-L"
   },
   "outputs": [],
   "source": [
    "# A escala de curtidas pode estar atrapalhando a visualização, por isso vamos deixar comentários em um gráfico separado\n",
    "base.plot(kind=\"scatter\", x = \"Data\", y = \"Comentários\", color = \"red\", label = \"Comentários\", figsize = (14, 8));"
   ]
  },
  {
   "cell_type": "code",
   "execution_count": null,
   "metadata": {
    "id": "e4YAVBl-HoXr"
   },
   "outputs": [],
   "source": [
    "# Ordenando os valores\n",
    "base.sort_values(by = \"Curtidas\", ascending = False).head()"
   ]
  },
  {
   "cell_type": "code",
   "execution_count": null,
   "metadata": {
    "id": "X7AD-6UNH5Ej"
   },
   "outputs": [],
   "source": [
    "# Ordenando os valores de forma ascendente\n",
    "base.sort_values(by = \"Curtidas\", ascending = True).head()"
   ]
  },
  {
   "cell_type": "code",
   "execution_count": null,
   "metadata": {
    "id": "m97l3sx4LAnI"
   },
   "outputs": [],
   "source": [
    "# Agrupando os valores\n",
    "base.groupby(\"Tipo\")[\"Curtidas\"].mean()"
   ]
  },
  {
   "cell_type": "code",
   "execution_count": null,
   "metadata": {
    "id": "mhSEhRfsL0WG"
   },
   "outputs": [],
   "source": [
    "# Agrupando por Tipo e Pessoas\n",
    "base.groupby([\"Tipo\", \"Pessoas\"])[\"Curtidas\", \"Comentários\"].mean()"
   ]
  },
  {
   "cell_type": "code",
   "execution_count": null,
   "metadata": {
    "id": "ZnxjjdFWNBaS"
   },
   "outputs": [],
   "source": [
    "# Incluindo a coluna campanha\n",
    "base.groupby([\"Tipo\", \"Pessoas\", \"Campanhas\"])[\"Curtidas\", \"Comentários\"].mean()"
   ]
  },
  {
   "cell_type": "code",
   "execution_count": null,
   "metadata": {
    "id": "uA_BAr4tNTNR"
   },
   "outputs": [],
   "source": [
    "# Somente pessoas\n",
    "base.groupby(\"Pessoas\")[\"Curtidas\", \"Comentários\"].mean()"
   ]
  },
  {
   "cell_type": "code",
   "execution_count": null,
   "metadata": {
    "id": "JKBi2v0wNk28"
   },
   "outputs": [],
   "source": [
    "# Somente Campanhas\n",
    "base.groupby(\"Campanhas\")[\"Curtidas\", \"Comentários\"].mean()"
   ]
  },
  {
   "cell_type": "code",
   "execution_count": null,
   "metadata": {
    "id": "JHB0foAMN7_z"
   },
   "outputs": [],
   "source": [
    "# Somente Carrossel sem filtrar a base => ESTÁ ERRADA ESSA COMPARAÇÃO\n",
    "base.groupby(\"Carrossel\")[\"Curtidas\", \"Comentários\"].mean()"
   ]
  },
  {
   "cell_type": "code",
   "execution_count": null,
   "metadata": {
    "id": "oe_CaITbN_bK"
   },
   "outputs": [],
   "source": [
    "# Filtrando a base\n",
    "base[base.Tipo == \"Foto\"].groupby([\"Carrossel\"])[[\"Curtidas\", \"Comentários\"]].mean()"
   ]
  },
  {
   "cell_type": "code",
   "execution_count": null,
   "metadata": {
    "id": "f4cBRBZRO42t"
   },
   "outputs": [],
   "source": [
    "# Agregando por Pessoas e Campanhas\n",
    "base.groupby([\"Pessoas\", \"Campanhas\"])[[\"Curtidas\", \"Comentários\"]].mean()"
   ]
  },
  {
   "cell_type": "code",
   "execution_count": null,
   "metadata": {
    "id": "9NNdljLDPO_S"
   },
   "outputs": [],
   "source": [
    "# Agregando por Pessoas, Campanhas e Tipo\n",
    "base.groupby([\"Pessoas\", \"Campanhas\", \"Tipo\"])[[\"Curtidas\", \"Comentários\"]].mean()"
   ]
  },
  {
   "cell_type": "code",
   "execution_count": null,
   "metadata": {
    "colab": {
     "base_uri": "https://localhost:8080/"
    },
    "id": "VyhQ3jJiQauJ",
    "outputId": "f074a53c-317b-4571-e087-94b33ce60d5b"
   },
   "outputs": [
    {
     "data": {
      "text/plain": [
       "Tags\n",
       "Datas comemorativas                 17,975.00\n",
       "Datas comemorativas/Promoções       29,084.00\n",
       "Dicas de como usar/Novos Produtos    5,703.50\n",
       "Dicas de como usar/Produtos          7,586.67\n",
       "Influenciadores                     15,197.29\n",
       "Loja                                 2,832.50\n",
       "Loja/Produtos                        2,930.00\n",
       "Novos Produtos                      11,619.57\n",
       "Produtos                             5,666.92\n",
       "Promoções                           26,645.50\n",
       "Trends                              22,400.67\n",
       "Trends/Produtos                     12,894.00\n",
       "Name: Curtidas, dtype: float64"
      ]
     },
     "execution_count": 9,
     "metadata": {},
     "output_type": "execute_result"
    }
   ],
   "source": [
    "# Agrupando por tags\n",
    "base.groupby(\"Tags\")[\"Curtidas\"].mean()"
   ]
  },
  {
   "cell_type": "code",
   "execution_count": null,
   "metadata": {
    "id": "53yvcFRjQ7NI"
   },
   "outputs": [],
   "source": [
    "# Transformando a coluna de Tags em uma lista de tags\n",
    "base.Tags = base.Tags.str.split(\"/\")\n",
    "base.head()"
   ]
  },
  {
   "cell_type": "code",
   "execution_count": null,
   "metadata": {
    "id": "ckbAHQWWSMqM"
   },
   "outputs": [],
   "source": [
    "# Separando a coluna Tags em 1 linha para cada elemento da lista\n",
    "base = base.explode(\"Tags\")\n",
    "base.head()"
   ]
  },
  {
   "cell_type": "code",
   "execution_count": null,
   "metadata": {
    "id": "Ksu2ERL1TFZi"
   },
   "outputs": [],
   "source": [
    "# Análise por Tags\n",
    "base.groupby(\"Tags\")[[\"Curtidas\", \"Comentários\"]].mean().sort_values(\"Curtidas\",ascending=False)"
   ]
  },
  {
   "cell_type": "code",
   "execution_count": null,
   "metadata": {
    "id": "lM74rHGsUDVO"
   },
   "outputs": [],
   "source": [
    "# Filtrando postagens sem tag\n",
    "base.loc[base.Tags.isnull(), \"Tags\"] = \"Sem tag\"\n",
    "base.groupby(\"Tags\")[[\"Curtidas\", \"Comentários\"]].mean().sort_values(\"Curtidas\",ascending=False)"
   ]
  },
  {
   "cell_type": "code",
   "execution_count": null,
   "metadata": {
    "colab": {
     "base_uri": "https://localhost:8080/",
     "height": 426
    },
    "id": "8FCGrFWVU-eX",
    "outputId": "91416531-6ff4-4ab2-f8c7-23f53bc51607"
   },
   "outputs": [
    {
     "data": {
      "application/vnd.google.colaboratory.intrinsic+json": {
       "summary": "{\n  \"name\": \"base\",\n  \"rows\": 11,\n  \"fields\": [\n    {\n      \"column\": \"Curtidas\",\n      \"properties\": {\n        \"dtype\": \"number\",\n        \"std\": 7902.9494379266935,\n        \"min\": 2865.0,\n        \"max\": 27458.333333333332,\n        \"num_unique_values\": 11,\n        \"samples\": [\n          15197.285714285714,\n          2865.0,\n          15347.875\n        ],\n        \"semantic_type\": \"\",\n        \"description\": \"\"\n      }\n    },\n    {\n      \"column\": \"Coment\\u00e1rios\",\n      \"properties\": {\n        \"dtype\": \"number\",\n        \"std\": 153.56816567228645,\n        \"min\": 17.666666666666668,\n        \"max\": 531.0,\n        \"num_unique_values\": 11,\n        \"samples\": [\n          161.71428571428572,\n          17.666666666666668,\n          207.75\n        ],\n        \"semantic_type\": \"\",\n        \"description\": \"\"\n      }\n    }\n  ]\n}",
       "type": "dataframe"
      },
      "text/html": [
       "\n",
       "  <div id=\"df-154e0b29-c088-47b9-bb4a-8c8c37a50f5c\" class=\"colab-df-container\">\n",
       "    <div>\n",
       "<style scoped>\n",
       "    .dataframe tbody tr th:only-of-type {\n",
       "        vertical-align: middle;\n",
       "    }\n",
       "\n",
       "    .dataframe tbody tr th {\n",
       "        vertical-align: top;\n",
       "    }\n",
       "\n",
       "    .dataframe thead th {\n",
       "        text-align: right;\n",
       "    }\n",
       "</style>\n",
       "<table border=\"1\" class=\"dataframe\">\n",
       "  <thead>\n",
       "    <tr style=\"text-align: right;\">\n",
       "      <th></th>\n",
       "      <th></th>\n",
       "      <th>Curtidas</th>\n",
       "      <th>Comentários</th>\n",
       "    </tr>\n",
       "    <tr>\n",
       "      <th>Pessoas</th>\n",
       "      <th>Tags</th>\n",
       "      <th></th>\n",
       "      <th></th>\n",
       "    </tr>\n",
       "  </thead>\n",
       "  <tbody>\n",
       "    <tr>\n",
       "      <th rowspan=\"3\" valign=\"top\">N</th>\n",
       "      <th>Loja</th>\n",
       "      <td>2,865.00</td>\n",
       "      <td>17.67</td>\n",
       "    </tr>\n",
       "    <tr>\n",
       "      <th>Novos Produtos</th>\n",
       "      <td>5,359.00</td>\n",
       "      <td>62.00</td>\n",
       "    </tr>\n",
       "    <tr>\n",
       "      <th>Produtos</th>\n",
       "      <td>4,450.67</td>\n",
       "      <td>60.78</td>\n",
       "    </tr>\n",
       "    <tr>\n",
       "      <th rowspan=\"8\" valign=\"top\">S</th>\n",
       "      <th>Datas comemorativas</th>\n",
       "      <td>20,752.25</td>\n",
       "      <td>343.50</td>\n",
       "    </tr>\n",
       "    <tr>\n",
       "      <th>Dicas de como usar</th>\n",
       "      <td>6,833.40</td>\n",
       "      <td>133.60</td>\n",
       "    </tr>\n",
       "    <tr>\n",
       "      <th>Influenciadores</th>\n",
       "      <td>15,197.29</td>\n",
       "      <td>161.71</td>\n",
       "    </tr>\n",
       "    <tr>\n",
       "      <th>Novos Produtos</th>\n",
       "      <td>10,923.12</td>\n",
       "      <td>215.62</td>\n",
       "    </tr>\n",
       "    <tr>\n",
       "      <th>Produtos</th>\n",
       "      <td>8,316.38</td>\n",
       "      <td>131.62</td>\n",
       "    </tr>\n",
       "    <tr>\n",
       "      <th>Promoções</th>\n",
       "      <td>27,458.33</td>\n",
       "      <td>531.00</td>\n",
       "    </tr>\n",
       "    <tr>\n",
       "      <th>Sem tag</th>\n",
       "      <td>15,347.88</td>\n",
       "      <td>207.75</td>\n",
       "    </tr>\n",
       "    <tr>\n",
       "      <th>Trends</th>\n",
       "      <td>20,024.00</td>\n",
       "      <td>352.25</td>\n",
       "    </tr>\n",
       "  </tbody>\n",
       "</table>\n",
       "</div>\n",
       "    <div class=\"colab-df-buttons\">\n",
       "\n",
       "  <div class=\"colab-df-container\">\n",
       "    <button class=\"colab-df-convert\" onclick=\"convertToInteractive('df-154e0b29-c088-47b9-bb4a-8c8c37a50f5c')\"\n",
       "            title=\"Convert this dataframe to an interactive table.\"\n",
       "            style=\"display:none;\">\n",
       "\n",
       "  <svg xmlns=\"http://www.w3.org/2000/svg\" height=\"24px\" viewBox=\"0 -960 960 960\">\n",
       "    <path d=\"M120-120v-720h720v720H120Zm60-500h600v-160H180v160Zm220 220h160v-160H400v160Zm0 220h160v-160H400v160ZM180-400h160v-160H180v160Zm440 0h160v-160H620v160ZM180-180h160v-160H180v160Zm440 0h160v-160H620v160Z\"/>\n",
       "  </svg>\n",
       "    </button>\n",
       "\n",
       "  <style>\n",
       "    .colab-df-container {\n",
       "      display:flex;\n",
       "      gap: 12px;\n",
       "    }\n",
       "\n",
       "    .colab-df-convert {\n",
       "      background-color: #E8F0FE;\n",
       "      border: none;\n",
       "      border-radius: 50%;\n",
       "      cursor: pointer;\n",
       "      display: none;\n",
       "      fill: #1967D2;\n",
       "      height: 32px;\n",
       "      padding: 0 0 0 0;\n",
       "      width: 32px;\n",
       "    }\n",
       "\n",
       "    .colab-df-convert:hover {\n",
       "      background-color: #E2EBFA;\n",
       "      box-shadow: 0px 1px 2px rgba(60, 64, 67, 0.3), 0px 1px 3px 1px rgba(60, 64, 67, 0.15);\n",
       "      fill: #174EA6;\n",
       "    }\n",
       "\n",
       "    .colab-df-buttons div {\n",
       "      margin-bottom: 4px;\n",
       "    }\n",
       "\n",
       "    [theme=dark] .colab-df-convert {\n",
       "      background-color: #3B4455;\n",
       "      fill: #D2E3FC;\n",
       "    }\n",
       "\n",
       "    [theme=dark] .colab-df-convert:hover {\n",
       "      background-color: #434B5C;\n",
       "      box-shadow: 0px 1px 3px 1px rgba(0, 0, 0, 0.15);\n",
       "      filter: drop-shadow(0px 1px 2px rgba(0, 0, 0, 0.3));\n",
       "      fill: #FFFFFF;\n",
       "    }\n",
       "  </style>\n",
       "\n",
       "    <script>\n",
       "      const buttonEl =\n",
       "        document.querySelector('#df-154e0b29-c088-47b9-bb4a-8c8c37a50f5c button.colab-df-convert');\n",
       "      buttonEl.style.display =\n",
       "        google.colab.kernel.accessAllowed ? 'block' : 'none';\n",
       "\n",
       "      async function convertToInteractive(key) {\n",
       "        const element = document.querySelector('#df-154e0b29-c088-47b9-bb4a-8c8c37a50f5c');\n",
       "        const dataTable =\n",
       "          await google.colab.kernel.invokeFunction('convertToInteractive',\n",
       "                                                    [key], {});\n",
       "        if (!dataTable) return;\n",
       "\n",
       "        const docLinkHtml = 'Like what you see? Visit the ' +\n",
       "          '<a target=\"_blank\" href=https://colab.research.google.com/notebooks/data_table.ipynb>data table notebook</a>'\n",
       "          + ' to learn more about interactive tables.';\n",
       "        element.innerHTML = '';\n",
       "        dataTable['output_type'] = 'display_data';\n",
       "        await google.colab.output.renderOutput(dataTable, element);\n",
       "        const docLink = document.createElement('div');\n",
       "        docLink.innerHTML = docLinkHtml;\n",
       "        element.appendChild(docLink);\n",
       "      }\n",
       "    </script>\n",
       "  </div>\n",
       "\n",
       "\n",
       "<div id=\"df-48966b13-9f67-4ba6-a9f1-22439bc027af\">\n",
       "  <button class=\"colab-df-quickchart\" onclick=\"quickchart('df-48966b13-9f67-4ba6-a9f1-22439bc027af')\"\n",
       "            title=\"Suggest charts\"\n",
       "            style=\"display:none;\">\n",
       "\n",
       "<svg xmlns=\"http://www.w3.org/2000/svg\" height=\"24px\"viewBox=\"0 0 24 24\"\n",
       "     width=\"24px\">\n",
       "    <g>\n",
       "        <path d=\"M19 3H5c-1.1 0-2 .9-2 2v14c0 1.1.9 2 2 2h14c1.1 0 2-.9 2-2V5c0-1.1-.9-2-2-2zM9 17H7v-7h2v7zm4 0h-2V7h2v10zm4 0h-2v-4h2v4z\"/>\n",
       "    </g>\n",
       "</svg>\n",
       "  </button>\n",
       "\n",
       "<style>\n",
       "  .colab-df-quickchart {\n",
       "      --bg-color: #E8F0FE;\n",
       "      --fill-color: #1967D2;\n",
       "      --hover-bg-color: #E2EBFA;\n",
       "      --hover-fill-color: #174EA6;\n",
       "      --disabled-fill-color: #AAA;\n",
       "      --disabled-bg-color: #DDD;\n",
       "  }\n",
       "\n",
       "  [theme=dark] .colab-df-quickchart {\n",
       "      --bg-color: #3B4455;\n",
       "      --fill-color: #D2E3FC;\n",
       "      --hover-bg-color: #434B5C;\n",
       "      --hover-fill-color: #FFFFFF;\n",
       "      --disabled-bg-color: #3B4455;\n",
       "      --disabled-fill-color: #666;\n",
       "  }\n",
       "\n",
       "  .colab-df-quickchart {\n",
       "    background-color: var(--bg-color);\n",
       "    border: none;\n",
       "    border-radius: 50%;\n",
       "    cursor: pointer;\n",
       "    display: none;\n",
       "    fill: var(--fill-color);\n",
       "    height: 32px;\n",
       "    padding: 0;\n",
       "    width: 32px;\n",
       "  }\n",
       "\n",
       "  .colab-df-quickchart:hover {\n",
       "    background-color: var(--hover-bg-color);\n",
       "    box-shadow: 0 1px 2px rgba(60, 64, 67, 0.3), 0 1px 3px 1px rgba(60, 64, 67, 0.15);\n",
       "    fill: var(--button-hover-fill-color);\n",
       "  }\n",
       "\n",
       "  .colab-df-quickchart-complete:disabled,\n",
       "  .colab-df-quickchart-complete:disabled:hover {\n",
       "    background-color: var(--disabled-bg-color);\n",
       "    fill: var(--disabled-fill-color);\n",
       "    box-shadow: none;\n",
       "  }\n",
       "\n",
       "  .colab-df-spinner {\n",
       "    border: 2px solid var(--fill-color);\n",
       "    border-color: transparent;\n",
       "    border-bottom-color: var(--fill-color);\n",
       "    animation:\n",
       "      spin 1s steps(1) infinite;\n",
       "  }\n",
       "\n",
       "  @keyframes spin {\n",
       "    0% {\n",
       "      border-color: transparent;\n",
       "      border-bottom-color: var(--fill-color);\n",
       "      border-left-color: var(--fill-color);\n",
       "    }\n",
       "    20% {\n",
       "      border-color: transparent;\n",
       "      border-left-color: var(--fill-color);\n",
       "      border-top-color: var(--fill-color);\n",
       "    }\n",
       "    30% {\n",
       "      border-color: transparent;\n",
       "      border-left-color: var(--fill-color);\n",
       "      border-top-color: var(--fill-color);\n",
       "      border-right-color: var(--fill-color);\n",
       "    }\n",
       "    40% {\n",
       "      border-color: transparent;\n",
       "      border-right-color: var(--fill-color);\n",
       "      border-top-color: var(--fill-color);\n",
       "    }\n",
       "    60% {\n",
       "      border-color: transparent;\n",
       "      border-right-color: var(--fill-color);\n",
       "    }\n",
       "    80% {\n",
       "      border-color: transparent;\n",
       "      border-right-color: var(--fill-color);\n",
       "      border-bottom-color: var(--fill-color);\n",
       "    }\n",
       "    90% {\n",
       "      border-color: transparent;\n",
       "      border-bottom-color: var(--fill-color);\n",
       "    }\n",
       "  }\n",
       "</style>\n",
       "\n",
       "  <script>\n",
       "    async function quickchart(key) {\n",
       "      const quickchartButtonEl =\n",
       "        document.querySelector('#' + key + ' button');\n",
       "      quickchartButtonEl.disabled = true;  // To prevent multiple clicks.\n",
       "      quickchartButtonEl.classList.add('colab-df-spinner');\n",
       "      try {\n",
       "        const charts = await google.colab.kernel.invokeFunction(\n",
       "            'suggestCharts', [key], {});\n",
       "      } catch (error) {\n",
       "        console.error('Error during call to suggestCharts:', error);\n",
       "      }\n",
       "      quickchartButtonEl.classList.remove('colab-df-spinner');\n",
       "      quickchartButtonEl.classList.add('colab-df-quickchart-complete');\n",
       "    }\n",
       "    (() => {\n",
       "      let quickchartButtonEl =\n",
       "        document.querySelector('#df-48966b13-9f67-4ba6-a9f1-22439bc027af button');\n",
       "      quickchartButtonEl.style.display =\n",
       "        google.colab.kernel.accessAllowed ? 'block' : 'none';\n",
       "    })();\n",
       "  </script>\n",
       "</div>\n",
       "\n",
       "    </div>\n",
       "  </div>\n"
      ],
      "text/plain": [
       "                             Curtidas  Comentários\n",
       "Pessoas Tags                                      \n",
       "N       Loja                 2,865.00        17.67\n",
       "        Novos Produtos       5,359.00        62.00\n",
       "        Produtos             4,450.67        60.78\n",
       "S       Datas comemorativas 20,752.25       343.50\n",
       "        Dicas de como usar   6,833.40       133.60\n",
       "        Influenciadores     15,197.29       161.71\n",
       "        Novos Produtos      10,923.12       215.62\n",
       "        Produtos             8,316.38       131.62\n",
       "        Promoções           27,458.33       531.00\n",
       "        Sem tag             15,347.88       207.75\n",
       "        Trends              20,024.00       352.25"
      ]
     },
     "execution_count": 22,
     "metadata": {},
     "output_type": "execute_result"
    }
   ],
   "source": [
    "# Filtrando postagens sem tag\n",
    "base.groupby([\"Pessoas\", \"Tags\"])[[\"Curtidas\", \"Comentários\"]].mean()"
   ]
  }
 ],
 "metadata": {
  "colab": {
   "provenance": []
  },
  "kernelspec": {
   "display_name": "Python 3 (ipykernel)",
   "language": "python",
   "name": "python3"
  },
  "language_info": {
   "codemirror_mode": {
    "name": "ipython",
    "version": 3
   },
   "file_extension": ".py",
   "mimetype": "text/x-python",
   "name": "python",
   "nbconvert_exporter": "python",
   "pygments_lexer": "ipython3",
   "version": "3.11.5"
  }
 },
 "nbformat": 4,
 "nbformat_minor": 1
}
